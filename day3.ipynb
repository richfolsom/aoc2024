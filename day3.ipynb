{
 "cells": [
  {
   "cell_type": "code",
   "execution_count": 4,
   "metadata": {},
   "outputs": [],
   "source": [
    "import re"
   ]
  },
  {
   "cell_type": "code",
   "execution_count": 176,
   "metadata": {},
   "outputs": [],
   "source": [
    "def totalLine(input):\n",
    "    mul = r\"mul\\((\\d{1,3}),(\\d{1,3})\\)\"\n",
    "    \n",
    "\n",
    "    total=0\n",
    "    total += sum(int(pair[0]) * int(pair[1]) for pair in re.findall(mul, input))\n",
    "    return total\n",
    "\n",
    "   \n"
   ]
  },
  {
   "cell_type": "code",
   "execution_count": 174,
   "metadata": {},
   "outputs": [
    {
     "name": "stdout",
     "output_type": "stream",
     "text": [
      "[('2', '4'), ('5', '5'), ('11', '8'), ('8', '5')]\n",
      "161\n"
     ]
    }
   ],
   "source": [
    "input = \"xmul(2,4)%&mul[3,7]!@^do_not_mul(5,5)+mul(32,64]then(mul(11,8)mul(8,5))\"\n",
    "res = totalLine(input)\n",
    "print(res)"
   ]
  },
  {
   "cell_type": "code",
   "execution_count": 177,
   "metadata": {},
   "outputs": [],
   "source": [
    "total = 0\n",
    "with open('day3.txt', 'r') as file:\n",
    "    for line in file:\n",
    "        total += totalLine(line)"
   ]
  },
  {
   "cell_type": "code",
   "execution_count": 175,
   "metadata": {},
   "outputs": [
    {
     "data": {
      "text/plain": [
       "184511516"
      ]
     },
     "execution_count": 175,
     "metadata": {},
     "output_type": "execute_result"
    }
   ],
   "source": [
    "\n",
    " total   "
   ]
  },
  {
   "cell_type": "code",
   "execution_count": null,
   "metadata": {},
   "outputs": [],
   "source": [
    "def totalLine2(input):\n",
    "    mul = r\"mul\\((\\d{1,3}),(\\d{1,3})\\)\"\n",
    "    \n",
    "\n",
    "    total=0\n",
    "    total += sum(int(pair[0]) * int(pair[1]) for pair in re.findall(mul, input))\n",
    "    return total"
   ]
  },
  {
   "cell_type": "code",
   "execution_count": 225,
   "metadata": {},
   "outputs": [
    {
     "name": "stdout",
     "output_type": "stream",
     "text": [
      "x4\n",
      "m)\n",
      "u&\n",
      "lm\n",
      "(u\n",
      "2l\n",
      ",[\n",
      "43\n",
      "),\n",
      "&7\n",
      "m]\n",
      "u!\n",
      "l^\n",
      "[d\n",
      "3o\n",
      ",n\n",
      "7'\n",
      "]t\n",
      "!(\n",
      "^)\n",
      "d_\n",
      "om\n",
      "nu\n",
      "'l\n",
      "t(\n",
      "(5\n",
      "),\n",
      "_5\n",
      "m)\n",
      "u+\n",
      "lm\n",
      "(u\n",
      "5l\n",
      ",(\n",
      "53\n",
      ")2\n",
      "+,\n",
      "m6\n",
      "u4\n",
      "l]\n",
      "((\n",
      "3m\n",
      "2u\n",
      ",l\n",
      "6(\n",
      "41\n",
      "]1\n",
      "(,\n",
      "m8\n",
      "u)\n",
      "lu\n",
      "(n\n",
      "1d\n",
      "1o\n",
      ",(\n",
      "8)\n",
      ")?\n",
      "um\n",
      "nu\n",
      "dl\n",
      "o(\n",
      "(8\n",
      "),\n",
      "?5\n",
      "m)\n",
      "u)\n"
     ]
    },
    {
     "ename": "IndexError",
     "evalue": "list index out of range",
     "output_type": "error",
     "traceback": [
      "\u001b[1;31m---------------------------------------------------------------------------\u001b[0m",
      "\u001b[1;31mIndexError\u001b[0m                                Traceback (most recent call last)",
      "Cell \u001b[1;32mIn[225], line 6\u001b[0m\n\u001b[0;32m      4\u001b[0m do \u001b[38;5;241m=\u001b[39m \u001b[38;5;28;01mTrue\u001b[39;00m\n\u001b[0;32m      5\u001b[0m \u001b[38;5;28;01mfor\u001b[39;00m i \u001b[38;5;129;01min\u001b[39;00m \u001b[38;5;28mrange\u001b[39m(\u001b[38;5;28mlen\u001b[39m(inputarr)):\n\u001b[1;32m----> 6\u001b[0m     \u001b[38;5;28mprint\u001b[39m(\u001b[38;5;124m\"\u001b[39m\u001b[38;5;124m\"\u001b[39m\u001b[38;5;241m.\u001b[39mjoin([inputarr[i], \u001b[43minputarr\u001b[49m\u001b[43m[\u001b[49m\u001b[43mi\u001b[49m\u001b[38;5;241;43m+\u001b[39;49m\u001b[38;5;241;43m7\u001b[39;49m\u001b[43m]\u001b[49m]))\n\u001b[0;32m      7\u001b[0m     \u001b[38;5;28;01mif\u001b[39;00m do:\n\u001b[0;32m      8\u001b[0m         \u001b[38;5;28;01mif\u001b[39;00m i \u001b[38;5;241m<\u001b[39m \u001b[38;5;28mlen\u001b[39m(inputarr)\u001b[38;5;241m-\u001b[39m\u001b[38;5;241m8\u001b[39m \u001b[38;5;129;01mand\u001b[39;00m \u001b[38;5;124m\"\u001b[39m\u001b[38;5;124m\"\u001b[39m\u001b[38;5;241m.\u001b[39mjoin([inputarr[i], inputarr[i\u001b[38;5;241m+\u001b[39m\u001b[38;5;241m8\u001b[39m]]) \u001b[38;5;241m==\u001b[39m \u001b[38;5;124m\"\u001b[39m\u001b[38;5;124mdon\u001b[39m\u001b[38;5;124m'\u001b[39m\u001b[38;5;124mt()\u001b[39m\u001b[38;5;124m\"\u001b[39m:\n",
      "\u001b[1;31mIndexError\u001b[0m: list index out of range"
     ]
    }
   ],
   "source": [
    "input = \"xmul(2,4)&mul[3,7]!^don't()_mul(5,5)+mul(32,64](mul(11,8)undo()?mul(8,5))\"\n",
    "inputarr = list(input)\n",
    "output=[]\n",
    "do = True\n",
    "for i in range(len(inputarr)):\n",
    "    print(\"\".join([inputarr[i], inputarr[i+7]]))\n",
    "    if do:\n",
    "        if i < len(inputarr)-8 and \"\".join([inputarr[i], inputarr[i+8]]) == \"don't()\":\n",
    "            print(\"\".join([inputarr[i], inputarr[i+7]]))\n",
    "            do=False\n",
    "        else:     \n",
    "            output.append(input[i])\n",
    "    \n",
    "#print (output)\n",
    "#for i in range(len(input-7):\n",
    "#    if input[i:57] == \"don't\"\n",
    "print(input)\n",
    "print(\"\".join(output))\n",
    "       \n",
    "\n"
   ]
  },
  {
   "cell_type": "code",
   "execution_count": 228,
   "metadata": {},
   "outputs": [
    {
     "name": "stdout",
     "output_type": "stream",
     "text": [
      "list['xmul(2,4']\n"
     ]
    }
   ],
   "source": [
    "input = \"xmul(2,4)&mul[3,7]!^don't()_mul(5,5)+mul(32,64](mul(11,8)undo()?mul(8,5))\"\n",
    "print(list[input[0:8]])"
   ]
  },
  {
   "cell_type": "code",
   "execution_count": 229,
   "metadata": {},
   "outputs": [
    {
     "ename": "TypeError",
     "evalue": "object of type 'types.GenericAlias' has no len()",
     "output_type": "error",
     "traceback": [
      "\u001b[1;31m---------------------------------------------------------------------------\u001b[0m",
      "\u001b[1;31mTypeError\u001b[0m                                 Traceback (most recent call last)",
      "Cell \u001b[1;32mIn[229], line 1\u001b[0m\n\u001b[1;32m----> 1\u001b[0m \u001b[38;5;28mprint\u001b[39m(\u001b[38;5;28;43mlen\u001b[39;49m\u001b[43m(\u001b[49m\u001b[38;5;28;43mlist\u001b[39;49m\u001b[43m[\u001b[49m\u001b[38;5;28;43minput\u001b[39;49m\u001b[43m[\u001b[49m\u001b[38;5;241;43m0\u001b[39;49m\u001b[43m:\u001b[49m\u001b[38;5;241;43m8\u001b[39;49m\u001b[43m]\u001b[49m\u001b[43m]\u001b[49m\u001b[43m)\u001b[49m)\n",
      "\u001b[1;31mTypeError\u001b[0m: object of type 'types.GenericAlias' has no len()"
     ]
    }
   ],
   "source": [
    "print(len(list[input[0:8]]))"
   ]
  },
  {
   "cell_type": "code",
   "execution_count": null,
   "metadata": {},
   "outputs": [],
   "source": []
  }
 ],
 "metadata": {
  "kernelspec": {
   "display_name": ".venv",
   "language": "python",
   "name": "python3"
  },
  "language_info": {
   "codemirror_mode": {
    "name": "ipython",
    "version": 3
   },
   "file_extension": ".py",
   "mimetype": "text/x-python",
   "name": "python",
   "nbconvert_exporter": "python",
   "pygments_lexer": "ipython3",
   "version": "3.12.8"
  }
 },
 "nbformat": 4,
 "nbformat_minor": 2
}
