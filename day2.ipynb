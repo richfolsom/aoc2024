{
 "cells": [
  {
   "cell_type": "code",
   "execution_count": null,
   "metadata": {},
   "outputs": [
    {
     "name": "stdout",
     "output_type": "stream",
     "text": [
      "604\n"
     ]
    }
   ],
   "source": [
    "\n",
    "def isSafe(intVals, times):\n",
    "    if times >=0:\n",
    "        del intVals[times]\n",
    "    mult = 1\n",
    "    if intVals[0] > intVals[1]:\n",
    "        mult = -1\n",
    "    for i in range(len(intVals) - 1):\n",
    "        \n",
    "        val1 = intVals[i]\n",
    "        val2 = intVals[i+1]\n",
    "        diff = (val2 - val1)*mult\n",
    "        if (diff <= 0) or (diff >3):\n",
    "            if times >= 0:\n",
    "                return 0\n",
    "            else:\n",
    "                for i in range(len(intVals)):\n",
    "                    intVals_Copy = []\n",
    "                    intVals_Copy.extend(intVals[:])\n",
    "                    if isSafe(intVals_Copy, i):\n",
    "                        return 1\n",
    "                return 0\n",
    "    return 1\n",
    "        \n",
    "safes = 0\n",
    "\n",
    "with open('day2.txt', 'r') as file:\n",
    "    for line in file:\n",
    "        intVals = [int(item) for item in line.split(' ')]\n",
    "        safes += isSafe(intVals,-1)\n",
    "print(safes)"
   ]
  },
  {
   "cell_type": "code",
   "execution_count": null,
   "metadata": {},
   "outputs": [],
   "source": []
  }
 ],
 "metadata": {
  "kernelspec": {
   "display_name": ".venv",
   "language": "python",
   "name": "python3"
  },
  "language_info": {
   "codemirror_mode": {
    "name": "ipython",
    "version": 3
   },
   "file_extension": ".py",
   "mimetype": "text/x-python",
   "name": "python",
   "nbconvert_exporter": "python",
   "pygments_lexer": "ipython3",
   "version": "3.12.8"
  }
 },
 "nbformat": 4,
 "nbformat_minor": 2
}
